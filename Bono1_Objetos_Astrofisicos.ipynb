{
 "cells": [
  {
   "cell_type": "code",
   "execution_count": 11,
   "metadata": {},
   "outputs": [],
   "source": [
    "import sympy as sp \n",
    "from sympy import init_printing\n",
    "init_printing()"
   ]
  },
  {
   "cell_type": "markdown",
   "metadata": {},
   "source": [
    "A partir de la siguiente ecuación deducir la ley de Wien\n",
    "\n",
    "$${\\displaystyle E(\\lambda ,T)={C_{1} \\over \\lambda ^{5}\\cdot (e^{C_{2} \\over \\lambda \\cdot T}-1)}={C_{1}\\cdot \\lambda ^{-5} \\over (e^{C_{2} \\over \\lambda \\cdot T}-1)}}$$\n",
    "\n",
    "$$8\\pi hc^{2}=1.498\\cdot 10^{-15}\\;{\\rm {W\\cdot m^{2}}}\\\\\n",
    "{hc \\over k_{B}}=1,4385\\cdot 10^{-2}\\;{\\rm {m\\cdot K}}$$"
   ]
  },
  {
   "cell_type": "code",
   "execution_count": 57,
   "metadata": {},
   "outputs": [],
   "source": [
    "c1,c2,Lambda,T = sp.symbols(\"c_{1},c_{2},\\\\lambda,T\")\n",
    "u = sp.Function(\"u\")(Lambda)"
   ]
  },
  {
   "cell_type": "code",
   "execution_count": 58,
   "metadata": {},
   "outputs": [
    {
     "data": {
      "image/png": "[encoded data removed]",
      "text/latex": [
       "$$\\frac{c_{1}}{\\lambda^{5} \\left(e^{\\frac{c_{2}}{T \\lambda}} - 1\\right)}$$"
      ],
      "text/plain": [
       "          c_{1}          \n",
       "─────────────────────────\n",
       "         ⎛   c_{2}      ⎞\n",
       "         ⎜ ─────────    ⎟\n",
       "       5 ⎜ T⋅\\lambda    ⎟\n",
       "\\lambda ⋅⎝ℯ          - 1⎠"
      ]
     },
     "execution_count": 58,
     "metadata": {},
     "output_type": "execute_result"
    }
   ],
   "source": [
    "U = (c1)/(Lambda**5*(sp.exp((c2)/(Lambda*T))-1))\n",
    "U"
   ]
  },
  {
   "cell_type": "code",
   "execution_count": 59,
   "metadata": {},
   "outputs": [
    {
     "data": {
      "image/png": "[encoded data removed]",
      "text/latex": [
       "$$- \\frac{5 c_{1}}{\\lambda^{6} \\left(e^{\\frac{c_{2}}{T \\lambda}} - 1\\right)} + \\frac{c_{1} c_{2} e^{\\frac{c_{2}}{T \\lambda}}}{T \\lambda^{7} \\left(e^{\\frac{c_{2}}{T \\lambda}} - 1\\right)^{2}}$$"
      ],
      "text/plain": [
       "                                                c_{2}     \n",
       "                                              ─────────   \n",
       "                                              T⋅\\lambda   \n",
       "           5⋅c_{1}               c_{1}⋅c_{2}⋅ℯ            \n",
       "- ───────────────────────── + ────────────────────────────\n",
       "           ⎛   c_{2}      ⎞                              2\n",
       "           ⎜ ─────────    ⎟              ⎛   c_{2}      ⎞ \n",
       "         6 ⎜ T⋅\\lambda    ⎟              ⎜ ─────────    ⎟ \n",
       "  \\lambda ⋅⎝ℯ          - 1⎠            7 ⎜ T⋅\\lambda    ⎟ \n",
       "                              T⋅\\lambda ⋅⎝ℯ          - 1⎠ "
      ]
     },
     "execution_count": 59,
     "metadata": {},
     "output_type": "execute_result"
    }
   ],
   "source": [
    "U.diff(Lambda)"
   ]
  },
  {
   "cell_type": "code",
   "execution_count": 48,
   "metadata": {},
   "outputs": [
    {
     "data": {
      "image/png": "[encoded data removed]",
      "text/latex": [
       "$$- \\frac{40 \\pi c h}{\\lambda^{6} \\left(e^{\\frac{c h}{T \\lambda k_{B}}} - 1\\right)} + \\frac{8 \\pi c^{2} h^{2} e^{\\frac{c h}{T \\lambda k_{B}}}}{T \\lambda^{7} k_{B} \\left(e^{\\frac{c h}{T \\lambda k_{B}}} - 1\\right)^{2}}$$"
      ],
      "text/plain": [
       "                                                             c⋅h            \n",
       "                                                       ───────────────      \n",
       "                                                 2  2  T⋅\\lambda⋅k_{B}      \n",
       "             40⋅\\pi⋅c⋅h                   8⋅\\pi⋅c ⋅h ⋅ℯ                     \n",
       "- ─────────────────────────────── + ────────────────────────────────────────\n",
       "           ⎛       c⋅h          ⎞                                          2\n",
       "           ⎜ ───────────────    ⎟                    ⎛       c⋅h          ⎞ \n",
       "         6 ⎜ T⋅\\lambda⋅k_{B}    ⎟                    ⎜ ───────────────    ⎟ \n",
       "  \\lambda ⋅⎝ℯ                - 1⎠            7       ⎜ T⋅\\lambda⋅k_{B}    ⎟ \n",
       "                                    T⋅\\lambda ⋅k_{B}⋅⎝ℯ                - 1⎠ "
      ]
     },
     "execution_count": 48,
     "metadata": {},
     "output_type": "execute_result"
    }
   ],
   "source": [
    "sp.diff(U,Lambda)"
   ]
  },
  {
   "cell_type": "code",
   "execution_count": 61,
   "metadata": {},
   "outputs": [
    {
     "data": {
      "image/png": "[encoded data removed]",
      "text/latex": [
       "$$\\frac{c_{1}}{T \\lambda^{7} \\left(e^{\\frac{c_{2}}{T \\lambda}} - 1\\right)^{2}} \\left(- 5 T \\lambda \\left(e^{\\frac{c_{2}}{T \\lambda}} - 1\\right) + c_{2} e^{\\frac{c_{2}}{T \\lambda}}\\right)$$"
      ],
      "text/plain": [
       "      ⎛              ⎛   c_{2}      ⎞            c_{2}  ⎞\n",
       "      ⎜              ⎜ ─────────    ⎟          ─────────⎟\n",
       "      ⎜              ⎜ T⋅\\lambda    ⎟          T⋅\\lambda⎟\n",
       "c_{1}⋅⎝- 5⋅T⋅\\lambda⋅⎝ℯ          - 1⎠ + c_{2}⋅ℯ         ⎠\n",
       "─────────────────────────────────────────────────────────\n",
       "                                          2              \n",
       "                          ⎛   c_{2}      ⎞               \n",
       "                          ⎜ ─────────    ⎟               \n",
       "                        7 ⎜ T⋅\\lambda    ⎟               \n",
       "               T⋅\\lambda ⋅⎝ℯ          - 1⎠               "
      ]
     },
     "execution_count": 61,
     "metadata": {},
     "output_type": "execute_result"
    }
   ],
   "source": [
    "s1 = sp.simplify(sp.diff(U,Lambda))\n",
    "s1"
   ]
  },
  {
   "cell_type": "code",
   "execution_count": 62,
   "metadata": {},
   "outputs": [
    {
     "data": {
      "image/png": "[encoded data removed]",
      "text/latex": [
       "$$\\emptyset$$"
      ],
      "text/plain": [
       "∅"
      ]
     },
     "execution_count": 62,
     "metadata": {},
     "output_type": "execute_result"
    }
   ],
   "source": [
    "sp.solveset(s1 == 0, Lambda)"
   ]
  },
  {
   "cell_type": "markdown",
   "metadata": {},
   "source": []
  },
  {
   "cell_type": "code",
   "execution_count": 64,
   "metadata": {},
   "outputs": [],
   "source": [
    "import scipy as scp\n",
    "import scipy.optimize \n",
    "\n"
   ]
  },
  {
   "cell_type": "code",
   "execution_count": null,
   "metadata": {},
   "outputs": [],
   "source": []
  }
 ],
 "metadata": {
  "kernelspec": {
   "display_name": "Python 2",
   "language": "python",
   "name": "python2"
  },
  "language_info": {
   "codemirror_mode": {
    "name": "ipython",
    "version": 2
   },
   "file_extension": ".py",
   "mimetype": "text/x-python",
   "name": "python",
   "nbconvert_exporter": "python",
   "pygments_lexer": "ipython2",
   "version": "2.7.14"
  }
 },
 "nbformat": 4,
 "nbformat_minor": 2
}
